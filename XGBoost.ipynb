{
 "cells": [
  {
   "cell_type": "code",
   "execution_count": 4,
   "metadata": {},
   "outputs": [
    {
     "data": {
      "text/html": [
       "<div>\n",
       "<style scoped>\n",
       "    .dataframe tbody tr th:only-of-type {\n",
       "        vertical-align: middle;\n",
       "    }\n",
       "\n",
       "    .dataframe tbody tr th {\n",
       "        vertical-align: top;\n",
       "    }\n",
       "\n",
       "    .dataframe thead th {\n",
       "        text-align: right;\n",
       "    }\n",
       "</style>\n",
       "<table border=\"1\" class=\"dataframe\">\n",
       "  <thead>\n",
       "    <tr style=\"text-align: right;\">\n",
       "      <th></th>\n",
       "      <th>外倾性</th>\n",
       "      <th>宜人性</th>\n",
       "      <th>开放性</th>\n",
       "      <th>尽责性</th>\n",
       "      <th>神经质</th>\n",
       "      <th>幸福事件</th>\n",
       "    </tr>\n",
       "  </thead>\n",
       "  <tbody>\n",
       "    <tr>\n",
       "      <th>0</th>\n",
       "      <td>中</td>\n",
       "      <td>中</td>\n",
       "      <td>中</td>\n",
       "      <td>中</td>\n",
       "      <td>中</td>\n",
       "      <td>最近唯一的好事了……</td>\n",
       "    </tr>\n",
       "    <tr>\n",
       "      <th>1</th>\n",
       "      <td>低</td>\n",
       "      <td>中</td>\n",
       "      <td>中</td>\n",
       "      <td>高</td>\n",
       "      <td>低</td>\n",
       "      <td>奖学金到账🥳</td>\n",
       "    </tr>\n",
       "    <tr>\n",
       "      <th>2</th>\n",
       "      <td>中</td>\n",
       "      <td>中</td>\n",
       "      <td>中</td>\n",
       "      <td>中</td>\n",
       "      <td>中</td>\n",
       "      <td>强撑着身体去买了蛋糕和泡芙</td>\n",
       "    </tr>\n",
       "    <tr>\n",
       "      <th>3</th>\n",
       "      <td>中</td>\n",
       "      <td>低</td>\n",
       "      <td>低</td>\n",
       "      <td>高</td>\n",
       "      <td>中</td>\n",
       "      <td>去跟风美美买了一瓶黄桃罐头😆</td>\n",
       "    </tr>\n",
       "    <tr>\n",
       "      <th>4</th>\n",
       "      <td>低</td>\n",
       "      <td>中</td>\n",
       "      <td>中</td>\n",
       "      <td>中</td>\n",
       "      <td>高</td>\n",
       "      <td>也不知道还要躺几天…</td>\n",
       "    </tr>\n",
       "    <tr>\n",
       "      <th>...</th>\n",
       "      <td>...</td>\n",
       "      <td>...</td>\n",
       "      <td>...</td>\n",
       "      <td>...</td>\n",
       "      <td>...</td>\n",
       "      <td>...</td>\n",
       "    </tr>\n",
       "    <tr>\n",
       "      <th>55260</th>\n",
       "      <td>低</td>\n",
       "      <td>高</td>\n",
       "      <td>低</td>\n",
       "      <td>高</td>\n",
       "      <td>中</td>\n",
       "      <td>明天是小狗的生日，送小狗的礼物她很喜欢</td>\n",
       "    </tr>\n",
       "    <tr>\n",
       "      <th>55261</th>\n",
       "      <td>低</td>\n",
       "      <td>中</td>\n",
       "      <td>低</td>\n",
       "      <td>中</td>\n",
       "      <td>高</td>\n",
       "      <td>打死了昨天咬我6口的🦟爽极了</td>\n",
       "    </tr>\n",
       "    <tr>\n",
       "      <th>55262</th>\n",
       "      <td>低</td>\n",
       "      <td>中</td>\n",
       "      <td>低</td>\n",
       "      <td>中</td>\n",
       "      <td>中</td>\n",
       "      <td>今天走在校园里看到各种各样不同的黄色银杏，很好看</td>\n",
       "    </tr>\n",
       "    <tr>\n",
       "      <th>55263</th>\n",
       "      <td>中</td>\n",
       "      <td>高</td>\n",
       "      <td>中</td>\n",
       "      <td>高</td>\n",
       "      <td>低</td>\n",
       "      <td>今天专注比以往多~</td>\n",
       "    </tr>\n",
       "    <tr>\n",
       "      <th>55264</th>\n",
       "      <td>中</td>\n",
       "      <td>中</td>\n",
       "      <td>高</td>\n",
       "      <td>高</td>\n",
       "      <td>中</td>\n",
       "      <td>今天有合理安排任务</td>\n",
       "    </tr>\n",
       "  </tbody>\n",
       "</table>\n",
       "<p>55265 rows × 6 columns</p>\n",
       "</div>"
      ],
      "text/plain": [
       "      外倾性 宜人性 开放性 尽责性 神经质                      幸福事件\n",
       "0       中   中   中   中   中                最近唯一的好事了……\n",
       "1       低   中   中   高   低                    奖学金到账🥳\n",
       "2       中   中   中   中   中             强撑着身体去买了蛋糕和泡芙\n",
       "3       中   低   低   高   中            去跟风美美买了一瓶黄桃罐头😆\n",
       "4       低   中   中   中   高                也不知道还要躺几天…\n",
       "...    ..  ..  ..  ..  ..                       ...\n",
       "55260   低   高   低   高   中       明天是小狗的生日，送小狗的礼物她很喜欢\n",
       "55261   低   中   低   中   高            打死了昨天咬我6口的🦟爽极了\n",
       "55262   低   中   低   中   中  今天走在校园里看到各种各样不同的黄色银杏，很好看\n",
       "55263   中   高   中   高   低                 今天专注比以往多~\n",
       "55264   中   中   高   高   中                 今天有合理安排任务\n",
       "\n",
       "[55265 rows x 6 columns]"
      ]
     },
     "execution_count": 4,
     "metadata": {},
     "output_type": "execute_result"
    }
   ],
   "source": [
    "import pandas as pd\n",
    "from sklearn.model_selection import train_test_split\n",
    "from sklearn.feature_extraction.text import CountVectorizer\n",
    "from sklearn.svm import SVC\n",
    "from sklearn.metrics import classification_report\n",
    "\n",
    "# 读取数据\n",
    "data = pd.read_csv('data/personality_traits.csv')\n",
    "data\n",
    "\n"
   ]
  },
  {
   "cell_type": "code",
   "execution_count": 5,
   "metadata": {},
   "outputs": [
    {
     "name": "stdout",
     "output_type": "stream",
     "text": [
      "Predicting trait: 外倾性\n"
     ]
    },
    {
     "name": "stderr",
     "output_type": "stream",
     "text": [
      "/opt/miniconda3/envs/new_env/lib/python3.8/site-packages/sklearn/metrics/_classification.py:1471: UndefinedMetricWarning: Precision and F-score are ill-defined and being set to 0.0 in labels with no predicted samples. Use `zero_division` parameter to control this behavior.\n",
      "  _warn_prf(average, modifier, msg_start, len(result))\n",
      "/opt/miniconda3/envs/new_env/lib/python3.8/site-packages/sklearn/metrics/_classification.py:1471: UndefinedMetricWarning: Precision and F-score are ill-defined and being set to 0.0 in labels with no predicted samples. Use `zero_division` parameter to control this behavior.\n",
      "  _warn_prf(average, modifier, msg_start, len(result))\n",
      "/opt/miniconda3/envs/new_env/lib/python3.8/site-packages/sklearn/metrics/_classification.py:1471: UndefinedMetricWarning: Precision and F-score are ill-defined and being set to 0.0 in labels with no predicted samples. Use `zero_division` parameter to control this behavior.\n",
      "  _warn_prf(average, modifier, msg_start, len(result))\n"
     ]
    },
    {
     "name": "stdout",
     "output_type": "stream",
     "text": [
      "标签0 精确率: 0.5615, 召回率: 0.4922, F1值: 0.3470, 准确率: 0.4922\n",
      "Predicting trait: 宜人性\n"
     ]
    },
    {
     "name": "stderr",
     "output_type": "stream",
     "text": [
      "/opt/miniconda3/envs/new_env/lib/python3.8/site-packages/sklearn/metrics/_classification.py:1471: UndefinedMetricWarning: Precision and F-score are ill-defined and being set to 0.0 in labels with no predicted samples. Use `zero_division` parameter to control this behavior.\n",
      "  _warn_prf(average, modifier, msg_start, len(result))\n",
      "/opt/miniconda3/envs/new_env/lib/python3.8/site-packages/sklearn/metrics/_classification.py:1471: UndefinedMetricWarning: Precision and F-score are ill-defined and being set to 0.0 in labels with no predicted samples. Use `zero_division` parameter to control this behavior.\n",
      "  _warn_prf(average, modifier, msg_start, len(result))\n",
      "/opt/miniconda3/envs/new_env/lib/python3.8/site-packages/sklearn/metrics/_classification.py:1471: UndefinedMetricWarning: Precision and F-score are ill-defined and being set to 0.0 in labels with no predicted samples. Use `zero_division` parameter to control this behavior.\n",
      "  _warn_prf(average, modifier, msg_start, len(result))\n"
     ]
    },
    {
     "name": "stdout",
     "output_type": "stream",
     "text": [
      "标签1 精确率: 0.6593, 召回率: 0.7622, F1值: 0.6617, 准确率: 0.7622\n",
      "Predicting trait: 开放性\n"
     ]
    },
    {
     "name": "stderr",
     "output_type": "stream",
     "text": [
      "/opt/miniconda3/envs/new_env/lib/python3.8/site-packages/sklearn/metrics/_classification.py:1471: UndefinedMetricWarning: Precision and F-score are ill-defined and being set to 0.0 in labels with no predicted samples. Use `zero_division` parameter to control this behavior.\n",
      "  _warn_prf(average, modifier, msg_start, len(result))\n",
      "/opt/miniconda3/envs/new_env/lib/python3.8/site-packages/sklearn/metrics/_classification.py:1471: UndefinedMetricWarning: Precision and F-score are ill-defined and being set to 0.0 in labels with no predicted samples. Use `zero_division` parameter to control this behavior.\n",
      "  _warn_prf(average, modifier, msg_start, len(result))\n",
      "/opt/miniconda3/envs/new_env/lib/python3.8/site-packages/sklearn/metrics/_classification.py:1471: UndefinedMetricWarning: Precision and F-score are ill-defined and being set to 0.0 in labels with no predicted samples. Use `zero_division` parameter to control this behavior.\n",
      "  _warn_prf(average, modifier, msg_start, len(result))\n"
     ]
    },
    {
     "name": "stdout",
     "output_type": "stream",
     "text": [
      "标签2 精确率: 0.5133, 召回率: 0.4451, F1值: 0.3020, 准确率: 0.4451\n",
      "Predicting trait: 尽责性\n"
     ]
    },
    {
     "name": "stderr",
     "output_type": "stream",
     "text": [
      "/opt/miniconda3/envs/new_env/lib/python3.8/site-packages/sklearn/metrics/_classification.py:1471: UndefinedMetricWarning: Precision and F-score are ill-defined and being set to 0.0 in labels with no predicted samples. Use `zero_division` parameter to control this behavior.\n",
      "  _warn_prf(average, modifier, msg_start, len(result))\n",
      "/opt/miniconda3/envs/new_env/lib/python3.8/site-packages/sklearn/metrics/_classification.py:1471: UndefinedMetricWarning: Precision and F-score are ill-defined and being set to 0.0 in labels with no predicted samples. Use `zero_division` parameter to control this behavior.\n",
      "  _warn_prf(average, modifier, msg_start, len(result))\n",
      "/opt/miniconda3/envs/new_env/lib/python3.8/site-packages/sklearn/metrics/_classification.py:1471: UndefinedMetricWarning: Precision and F-score are ill-defined and being set to 0.0 in labels with no predicted samples. Use `zero_division` parameter to control this behavior.\n",
      "  _warn_prf(average, modifier, msg_start, len(result))\n"
     ]
    },
    {
     "name": "stdout",
     "output_type": "stream",
     "text": [
      "标签3 精确率: 0.5516, 召回率: 0.5465, F1值: 0.3988, 准确率: 0.5465\n",
      "Predicting trait: 神经质\n",
      "标签4 精确率: 0.6055, 召回率: 0.7089, F1值: 0.5937, 准确率: 0.7089\n"
     ]
    },
    {
     "name": "stderr",
     "output_type": "stream",
     "text": [
      "/opt/miniconda3/envs/new_env/lib/python3.8/site-packages/sklearn/metrics/_classification.py:1471: UndefinedMetricWarning: Precision and F-score are ill-defined and being set to 0.0 in labels with no predicted samples. Use `zero_division` parameter to control this behavior.\n",
      "  _warn_prf(average, modifier, msg_start, len(result))\n",
      "/opt/miniconda3/envs/new_env/lib/python3.8/site-packages/sklearn/metrics/_classification.py:1471: UndefinedMetricWarning: Precision and F-score are ill-defined and being set to 0.0 in labels with no predicted samples. Use `zero_division` parameter to control this behavior.\n",
      "  _warn_prf(average, modifier, msg_start, len(result))\n",
      "/opt/miniconda3/envs/new_env/lib/python3.8/site-packages/sklearn/metrics/_classification.py:1471: UndefinedMetricWarning: Precision and F-score are ill-defined and being set to 0.0 in labels with no predicted samples. Use `zero_division` parameter to control this behavior.\n",
      "  _warn_prf(average, modifier, msg_start, len(result))\n"
     ]
    }
   ],
   "source": [
    "import pandas as pd\n",
    "from sklearn.model_selection import train_test_split\n",
    "from sklearn.feature_extraction.text import CountVectorizer\n",
    "from xgboost import XGBClassifier\n",
    "from sklearn.metrics import classification_report\n",
    "from sklearn.preprocessing import LabelEncoder\n",
    "\n",
    "# 分割训练集和测试集\n",
    "X_train, X_test, y_train, y_test = train_test_split(data['幸福事件'], data[['外倾性', '宜人性', '开放性', '尽责性', '神经质']], test_size=0.2, random_state=42)\n",
    "\n",
    "# 特征提取\n",
    "vectorizer = CountVectorizer()\n",
    "X_train_vec = vectorizer.fit_transform(X_train)\n",
    "X_test_vec = vectorizer.transform(X_test)\n",
    "\n",
    "# 将特质标签转换为数值\n",
    "label_encoders = {}\n",
    "for trait in ['外倾性', '宜人性', '开放性', '尽责性', '神经质']:\n",
    "    le = LabelEncoder()\n",
    "    y_train[trait] = le.fit_transform(y_train[trait])\n",
    "    y_test[trait] = le.transform(y_test[trait])\n",
    "    label_encoders[trait] = le\n",
    "    \n",
    "# 记录每个特质的评估指标\n",
    "precision_scores = []\n",
    "recall_scores = []\n",
    "f1_scores = []\n",
    "accuracy_scores = []\n",
    "# 训练模型和预测每个特质\n",
    "\n",
    "for i, trait in enumerate(['外倾性', '宜人性', '开放性', '尽责性', '神经质']):\n",
    "    print(f\"Predicting trait: {trait}\")\n",
    "    # 使用 XGBoost 分类器\n",
    "    model = XGBClassifier(use_label_encoder=False, eval_metric='logloss')\n",
    "    model.fit(X_train_vec, y_train[trait])\n",
    "    y_pred = model.predict(X_test_vec)\n",
    "    report = classification_report(y_test[trait], y_pred, output_dict=True)\n",
    "    precision = report['weighted avg']['precision']\n",
    "    recall = report['weighted avg']['recall']\n",
    "    f1 = report['weighted avg']['f1-score']\n",
    "    accuracy = report['accuracy']\n",
    "    print(f\"标签{i} 精确率: {precision:.4f}, 召回率: {recall:.4f}, F1值: {f1:.4f}, 准确率: {accuracy:.4f}\")\n",
    "    \n",
    "    # 记录评估指标\n",
    "    precision_scores.append(precision)\n",
    "    recall_scores.append(recall)\n",
    "    f1_scores.append(f1)\n",
    "    accuracy_scores.append(accuracy)"
   ]
  },
  {
   "cell_type": "code",
   "execution_count": 6,
   "metadata": {},
   "outputs": [
    {
     "data": {
      "image/png": "[encoded data removed]",
      "text/plain": [
       "<Figure size 1200x600 with 4 Axes>"
      ]
     },
     "metadata": {},
     "output_type": "display_data"
    }
   ],
   "source": [
    "from matplotlib import pyplot as plt\n",
    "\n",
    "colors = ['red', 'blue', 'green', 'orange', 'purple']\n",
    "# 可视化\n",
    "labels = ['E', 'A', 'O', 'C', 'N']\n",
    "x = range(len(labels))\n",
    "\n",
    "plt.figure(figsize=(12, 6))\n",
    "\n",
    "plt.subplot(2, 2, 1)\n",
    "plt.bar(x, precision_scores, color=colors)\n",
    "plt.xticks(x, labels)\n",
    "plt.title('Precision')\n",
    "\n",
    "plt.subplot(2, 2, 2)\n",
    "plt.bar(x, recall_scores, color=colors)\n",
    "plt.xticks(x, labels)\n",
    "plt.title('Recall')\n",
    "\n",
    "plt.subplot(2, 2, 3)\n",
    "plt.bar(x, f1_scores, color=colors)\n",
    "plt.xticks(x, labels)\n",
    "plt.title('F1-score')\n",
    "\n",
    "plt.subplot(2, 2, 4)\n",
    "plt.bar(x, accuracy_scores, color=colors)\n",
    "plt.xticks(x, labels)\n",
    "plt.title('Accuracy')\n",
    "\n",
    "plt.tight_layout()\n",
    "plt.show()"
   ]
  },
  {
   "cell_type": "code",
   "execution_count": 7,
   "metadata": {},
   "outputs": [
    {
     "name": "stdout",
     "output_type": "stream",
     "text": [
      "整体精确率: 0.5782, 整体召回率: 0.5910, 整体F1值: 0.4606, 整体准确率: 0.5910\n"
     ]
    }
   ],
   "source": [
    "overall_precision = sum(precision_scores) / len(precision_scores)\n",
    "overall_recall = sum(recall_scores) / len(recall_scores)\n",
    "overall_f1 = sum(f1_scores) / len(f1_scores)\n",
    "overall_accuracy = sum(accuracy_scores) / len(accuracy_scores)\n",
    "\n",
    "print(f\"整体精确率: {overall_precision:.4f}, 整体召回率: {overall_recall:.4f}, 整体F1值: {overall_f1:.4f}, 整体准确率: {overall_accuracy:.4f}\")"
   ]
  }
 ],
 "metadata": {
  "kernelspec": {
   "display_name": "Python 3",
   "language": "python",
   "name": "python3"
  },
  "language_info": {
   "codemirror_mode": {
    "name": "ipython",
    "version": 3
   },
   "file_extension": ".py",
   "mimetype": "text/x-python",
   "name": "python",
   "nbconvert_exporter": "python",
   "pygments_lexer": "ipython3",
   "version": "3.8.18"
  }
 },
 "nbformat": 4,
 "nbformat_minor": 2
}
